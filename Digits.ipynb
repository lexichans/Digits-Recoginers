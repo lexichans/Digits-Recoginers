{
 "cells": [
  {
   "cell_type": "code",
   "execution_count": 1,
   "metadata": {},
   "outputs": [
    {
     "name": "stderr",
     "output_type": "stream",
     "text": [
      "/anaconda3/lib/python3.7/site-packages/sklearn/ensemble/weight_boosting.py:29: DeprecationWarning: numpy.core.umath_tests is an internal NumPy module and should not be imported. It will be removed in a future NumPy release.\n",
      "  from numpy.core.umath_tests import inner1d\n"
     ]
    }
   ],
   "source": [
    "#Import packages\n",
    "import os\n",
    "import pandas as pd\n",
    "import matplotlib.pyplot as plt\n",
    "import numpy as np\n",
    "import datetime as DT\n",
    "import sklearn.metrics as skm\n",
    "from sklearn.ensemble import RandomForestClassifier as RFClass\n",
    "import sys\n",
    "from sklearn.metrics import confusion_matrix\n",
    "import itertools"
   ]
  },
  {
   "cell_type": "code",
   "execution_count": 2,
   "metadata": {},
   "outputs": [],
   "source": [
    "#Load the data\n",
    "projFld = \"/Users/evan/Documents/Academic/Projects/Digits/\"\n",
    "codeFld = os.path.join(projFld, \"PyCode\")\n",
    "fnsFld = os.path.join(codeFld,\"_Functions\")\n",
    "outputFld = os.path.join(projFld, \"Output\")\n",
    "rawDataFld = os.path.join(projFld, \"RawData\")\n",
    "savedDataFld = os.path.join(projFld, \"SavedData\")\n",
    "\n",
    "kdigits = pd.read_csv(os.path.join(rawDataFld, \"KDigits_train.csv\"))"
   ]
  },
  {
   "cell_type": "code",
   "execution_count": 3,
   "metadata": {},
   "outputs": [],
   "source": [
    "# Split Train/Test\n",
    "from sklearn.model_selection import train_test_split as skl_traintest_split\n",
    "X = kdigits.copy().drop(columns={'label'})\n",
    "Y = kdigits['label']\n",
    "\n",
    "X_train, X_test, Y_train, Y_test = skl_traintest_split(X, Y, test_size=0.20, random_state=2019)"
   ]
  },
  {
   "cell_type": "code",
   "execution_count": 4,
   "metadata": {},
   "outputs": [],
   "source": [
    "#Preprocessing transform to the input variables: Scale Data \n",
    "from sklearn import preprocessing\n",
    "min_max_scaler = preprocessing.MinMaxScaler()\n",
    "X_train_minmax = min_max_scaler.fit_transform(X_train)\n",
    "X_test_minmax = min_max_scaler.fit_transform(X_test)"
   ]
  },
  {
   "cell_type": "code",
   "execution_count": 5,
   "metadata": {},
   "outputs": [
    {
     "data": {
      "text/plain": [
       "<matplotlib.image.AxesImage at 0x1a220f2f60>"
      ]
     },
     "execution_count": 5,
     "metadata": {},
     "output_type": "execute_result"
    },
    {
     "data": {
      "image/png": "[encoded data removed]",
      "text/plain": [
       "<Figure size 432x288 with 1 Axes>"
      ]
     },
     "metadata": {
      "needs_background": "light"
     },
     "output_type": "display_data"
    }
   ],
   "source": [
    "# Plot the data sample\n",
    "plt.imshow(np.array(X_train.iloc[211], dtype='uint8').reshape((28,28)),cmap='gray')"
   ]
  },
  {
   "cell_type": "markdown",
   "metadata": {},
   "source": [
    "Random forest model"
   ]
  },
  {
   "cell_type": "code",
   "execution_count": 6,
   "metadata": {},
   "outputs": [],
   "source": [
    "#Build the Random forest model\n",
    "model_rf = RFClass(n_estimators = 500, max_depth=6, random_state=2019, n_jobs=6)"
   ]
  },
  {
   "cell_type": "code",
   "execution_count": 7,
   "metadata": {},
   "outputs": [],
   "source": [
    "#Train 10 models\n",
    "y_train0 = (Y_train == 0).astype(int)\n",
    "classifier0 = model_rf.fit(X_train_minmax, y_train0)\n",
    "predictions0 = classifier0.predict_proba(X_test_minmax)\n",
    "predictions0 = np.array(predictions0[:,1]).tolist()\n",
    "\n",
    "y_train1 = (Y_train == 1).astype(int)\n",
    "classifier1 = model_rf.fit(X_train_minmax, y_train1)\n",
    "predictions1 = classifier1.predict_proba(X_test_minmax)\n",
    "predictions1 = np.array(predictions1[:,1]).tolist()\n",
    "\n",
    "y_train2 = (Y_train == 2).astype(int)\n",
    "classifier2 = model_rf.fit(X_train_minmax, y_train2)\n",
    "predictions2 = classifier2.predict_proba(X_test_minmax)\n",
    "predictions2 = np.array(predictions2[:,1]).tolist()\n",
    "\n",
    "y_train3 = (Y_train == 3).astype(int)\n",
    "classifier3 = model_rf.fit(X_train_minmax, y_train3)\n",
    "predictions3 = classifier3.predict_proba(X_test_minmax)\n",
    "predictions3 = np.array(predictions3[:,1]).tolist()\n",
    "\n",
    "y_train4 = (Y_train == 4).astype(int)\n",
    "classifier4 = model_rf.fit(X_train_minmax, y_train4)\n",
    "predictions4 = classifier4.predict_proba(X_test_minmax)\n",
    "predictions4 = np.array(predictions4[:,1]).tolist()\n",
    "\n",
    "y_train5 = (Y_train == 5).astype(int)\n",
    "classifier5 = model_rf.fit(X_train_minmax, y_train5)\n",
    "predictions5 = classifier5.predict_proba(X_test_minmax)\n",
    "predictions5 = np.array(predictions5[:,1]).tolist()\n",
    "\n",
    "y_train6 = (Y_train == 6).astype(int)\n",
    "classifier6 = model_rf.fit(X_train_minmax, y_train6)\n",
    "predictions6 = classifier6.predict_proba(X_test_minmax)\n",
    "predictions6 = np.array(predictions6[:,1]).tolist()\n",
    "\n",
    "y_train7 = (Y_train == 7).astype(int)\n",
    "classifier7 = model_rf.fit(X_train_minmax, y_train7)\n",
    "predictions7 = classifier7.predict_proba(X_test_minmax)\n",
    "predictions7 = np.array(predictions7[:,1]).tolist()\n",
    "\n",
    "y_train8 = (Y_train == 8).astype(int)\n",
    "classifier8 = model_rf.fit(X_train_minmax, y_train8)\n",
    "predictions8 = classifier8.predict_proba(X_test_minmax)\n",
    "predictions8 = np.array(predictions8[:,1]).tolist()\n",
    "\n",
    "y_train9 = (Y_train == 9).astype(int)\n",
    "classifier9 = model_rf.fit(X_train_minmax, y_train9)\n",
    "predictions9 = classifier9.predict_proba(X_test_minmax)\n",
    "predictions9 = np.array(predictions9[:,1]).tolist()"
   ]
  },
  {
   "cell_type": "code",
   "execution_count": 8,
   "metadata": {},
   "outputs": [],
   "source": [
    "#Combine possibilities\n",
    "predictions = pd.DataFrame(\n",
    "    {'0': predictions0,\n",
    "     '1': predictions1,\n",
    "     '2': predictions2,\n",
    "     '3': predictions3,\n",
    "     '4': predictions4,\n",
    "     '5': predictions5,\n",
    "     '6': predictions6,\n",
    "     '7': predictions7,\n",
    "     '8': predictions8,\n",
    "     '9': predictions9\n",
    "    })"
   ]
  },
  {
   "cell_type": "code",
   "execution_count": 9,
   "metadata": {},
   "outputs": [],
   "source": [
    "#Select label\n",
    "predictions['label'] = predictions.idxmax(axis=1)"
   ]
  },
  {
   "cell_type": "code",
   "execution_count": 10,
   "metadata": {},
   "outputs": [],
   "source": [
    "#Extract labels\n",
    "pre_test = predictions[\"label\"]\n",
    "y_test1 = np.array(Y_test.values).tolist()\n",
    "pre_test1 = np.array(pre_test.values).tolist()\n",
    "y_test1 = list(map(int, y_test1))\n",
    "pre_test1 = list(map(int, pre_test1))"
   ]
  },
  {
   "cell_type": "code",
   "execution_count": 11,
   "metadata": {},
   "outputs": [],
   "source": [
    "#define the confusion matrix\n",
    "def plot_confusion_matrix(cm, classes,\n",
    "                          normalize=False,\n",
    "                          title='Confusion matrix',\n",
    "                          cmap=plt.cm.Blues):\n",
    "    \"\"\"\n",
    "    This function prints and plots the confusion matrix.\n",
    "    Normalization can be applied by setting `normalize=True`.\n",
    "    \"\"\"\n",
    "    plt.imshow(cm, interpolation='nearest', cmap=cmap)\n",
    "    plt.title(title)\n",
    "    plt.colorbar()\n",
    "    tick_marks = np.arange(len(classes))\n",
    "    plt.xticks(tick_marks, classes, rotation=45)\n",
    "    plt.yticks(tick_marks, classes)\n",
    "\n",
    "    if normalize:\n",
    "        cm = cm.astype('float') / cm.sum(axis=1)[:, np.newaxis]\n",
    "\n",
    "    thresh = cm.max() / 2.\n",
    "    for i, j in itertools.product(range(cm.shape[0]), range(cm.shape[1])):\n",
    "        plt.text(j, i, cm[i, j],\n",
    "                 horizontalalignment=\"center\",\n",
    "                 color=\"white\" if cm[i, j] > thresh else \"black\")\n",
    "\n",
    "    plt.tight_layout()\n",
    "    plt.ylabel('True label')\n",
    "    plt.xlabel('Predicted label')"
   ]
  },
  {
   "cell_type": "code",
   "execution_count": 12,
   "metadata": {},
   "outputs": [
    {
     "data": {
      "image/png": "[encoded data removed]",
      "text/plain": [
       "<Figure size 432x288 with 2 Axes>"
      ]
     },
     "metadata": {
      "needs_background": "light"
     },
     "output_type": "display_data"
    }
   ],
   "source": [
    "# Plot the confusion matrix\n",
    "confusion_mtx_rf = confusion_matrix(y_test1, pre_test1)\n",
    "plot_confusion_matrix(confusion_mtx_rf, classes = range(10)) "
   ]
  },
  {
   "cell_type": "markdown",
   "metadata": {},
   "source": [
    "CNN model"
   ]
  },
  {
   "cell_type": "code",
   "execution_count": 13,
   "metadata": {},
   "outputs": [
    {
     "name": "stdout",
     "output_type": "stream",
     "text": [
      "X_train shape: (33600, 28, 28, 1)\n",
      "Number of images in x_train 33600\n",
      "Number of images in x_test 8400\n"
     ]
    }
   ],
   "source": [
    "# Build the CNN model\n",
    "X_train_minmax = X_train_minmax.reshape(X_train_minmax.shape[0], 28, 28, 1)\n",
    "X_test_minmax = X_test_minmax.reshape(X_test_minmax.shape[0], 28, 28, 1)\n",
    "input_shape = (28, 28, 1)\n",
    "X_train_minmax = X_train_minmax.astype('float32')\n",
    "X_test_minmax = X_test_minmax.astype('float32')\n",
    "print('X_train shape:', X_train_minmax.shape)\n",
    "print('Number of images in x_train', X_train_minmax.shape[0])\n",
    "print('Number of images in x_test', X_test_minmax.shape[0])"
   ]
  },
  {
   "cell_type": "code",
   "execution_count": 14,
   "metadata": {},
   "outputs": [
    {
     "name": "stderr",
     "output_type": "stream",
     "text": [
      "Using TensorFlow backend.\n"
     ]
    },
    {
     "name": "stdout",
     "output_type": "stream",
     "text": [
      "WARNING:tensorflow:From /anaconda3/lib/python3.7/site-packages/tensorflow/python/framework/op_def_library.py:263: colocate_with (from tensorflow.python.framework.ops) is deprecated and will be removed in a future version.\n",
      "Instructions for updating:\n",
      "Colocations handled automatically by placer.\n",
      "WARNING:tensorflow:From /anaconda3/lib/python3.7/site-packages/keras/backend/tensorflow_backend.py:3445: calling dropout (from tensorflow.python.ops.nn_ops) with keep_prob is deprecated and will be removed in a future version.\n",
      "Instructions for updating:\n",
      "Please use `rate` instead of `keep_prob`. Rate should be set to `rate = 1 - keep_prob`.\n",
      "WARNING:tensorflow:From /anaconda3/lib/python3.7/site-packages/tensorflow/python/ops/math_ops.py:3066: to_int32 (from tensorflow.python.ops.math_ops) is deprecated and will be removed in a future version.\n",
      "Instructions for updating:\n",
      "Use tf.cast instead.\n",
      "Epoch 1/20\n",
      "33600/33600 [==============================] - 10s 299us/step - loss: 0.2739 - acc: 0.9175\n",
      "Epoch 2/20\n",
      "33600/33600 [==============================] - 10s 290us/step - loss: 0.1079 - acc: 0.9677\n",
      "Epoch 3/20\n",
      "33600/33600 [==============================] - 10s 292us/step - loss: 0.0704 - acc: 0.9784\n",
      "Epoch 4/20\n",
      "33600/33600 [==============================] - 10s 301us/step - loss: 0.0535 - acc: 0.9824\n",
      "Epoch 5/20\n",
      "33600/33600 [==============================] - 10s 293us/step - loss: 0.0398 - acc: 0.9870\n",
      "Epoch 6/20\n",
      "33600/33600 [==============================] - 10s 294us/step - loss: 0.0350 - acc: 0.9876\n",
      "Epoch 7/20\n",
      "33600/33600 [==============================] - 10s 292us/step - loss: 0.0293 - acc: 0.9897\n",
      "Epoch 8/20\n",
      "33600/33600 [==============================] - 10s 294us/step - loss: 0.0228 - acc: 0.9921\n",
      "Epoch 9/20\n",
      "33600/33600 [==============================] - 10s 297us/step - loss: 0.0215 - acc: 0.9924\n",
      "Epoch 10/20\n",
      "33600/33600 [==============================] - 10s 293us/step - loss: 0.0215 - acc: 0.9927\n",
      "Epoch 11/20\n",
      "33600/33600 [==============================] - 10s 291us/step - loss: 0.0171 - acc: 0.9943\n",
      "Epoch 12/20\n",
      "33600/33600 [==============================] - 10s 295us/step - loss: 0.0150 - acc: 0.9950\n",
      "Epoch 13/20\n",
      "33600/33600 [==============================] - 10s 298us/step - loss: 0.0141 - acc: 0.9956\n",
      "Epoch 14/20\n",
      "33600/33600 [==============================] - 10s 298us/step - loss: 0.0135 - acc: 0.9951\n",
      "Epoch 15/20\n",
      "33600/33600 [==============================] - 10s 292us/step - loss: 0.0120 - acc: 0.9961\n",
      "Epoch 16/20\n",
      "33600/33600 [==============================] - 10s 285us/step - loss: 0.0130 - acc: 0.9955\n",
      "Epoch 17/20\n",
      "33600/33600 [==============================] - 9s 267us/step - loss: 0.0138 - acc: 0.9955\n",
      "Epoch 18/20\n",
      "33600/33600 [==============================] - 9s 266us/step - loss: 0.0119 - acc: 0.9959\n",
      "Epoch 19/20\n",
      "33600/33600 [==============================] - 9s 268us/step - loss: 0.0094 - acc: 0.9969\n",
      "Epoch 20/20\n",
      "33600/33600 [==============================] - 9s 267us/step - loss: 0.0116 - acc: 0.9958\n"
     ]
    },
    {
     "data": {
      "text/plain": [
       "<keras.callbacks.History at 0x1a6c58cdd8>"
      ]
     },
     "execution_count": 14,
     "metadata": {},
     "output_type": "execute_result"
    }
   ],
   "source": [
    "#Train the data using CNN model\n",
    "from keras.models import Sequential\n",
    "from keras.layers import Dense, Conv2D, Dropout, Flatten, MaxPooling2D\n",
    "import tensorflow as tf\n",
    "\n",
    "model_cnn = Sequential()\n",
    "model_cnn.add(Conv2D(28, kernel_size=(3,3), input_shape=input_shape))\n",
    "model_cnn.add(MaxPooling2D(pool_size=(2, 2)))\n",
    "model_cnn.add(Flatten())\n",
    "model_cnn.add(Dense(128, activation=tf.nn.relu))\n",
    "model_cnn.add(Dropout(0.2))\n",
    "model_cnn.add(Dense(10,activation=tf.nn.softmax))\n",
    "\n",
    "model_cnn.compile(optimizer='adam', loss='sparse_categorical_crossentropy', metrics=['accuracy'])\n",
    "model_cnn.fit(x=X_train_minmax,y=Y_train, epochs=20)"
   ]
  },
  {
   "cell_type": "code",
   "execution_count": 15,
   "metadata": {},
   "outputs": [
    {
     "name": "stdout",
     "output_type": "stream",
     "text": [
      "8400/8400 [==============================] - 1s 72us/step\n"
     ]
    },
    {
     "data": {
      "text/plain": [
       "[0.09597916253663892, 0.9804761904761905]"
      ]
     },
     "execution_count": 15,
     "metadata": {},
     "output_type": "execute_result"
    }
   ],
   "source": [
    "#Evaluate the accuracy\n",
    "model_cnn.evaluate(X_test_minmax, Y_test)"
   ]
  },
  {
   "cell_type": "code",
   "execution_count": 16,
   "metadata": {},
   "outputs": [],
   "source": [
    "Y_pred = model_cnn.predict(X_test_minmax)\n",
    "Y_pred_classes = np.argmax(Y_pred,axis = 1) \n",
    "Y_test1 = np.array(Y_test.values).tolist()\n",
    "Y_test1 = list(map(int, Y_test1))\n",
    "Y_pred_classes1 = np.array(Y_pred_classes).tolist()"
   ]
  },
  {
   "cell_type": "code",
   "execution_count": 17,
   "metadata": {},
   "outputs": [
    {
     "data": {
      "image/png": "[encoded data removed]",
      "text/plain": [
       "<Figure size 432x288 with 2 Axes>"
      ]
     },
     "metadata": {
      "needs_background": "light"
     },
     "output_type": "display_data"
    }
   ],
   "source": [
    "# Plot the confusion matrix\n",
    "confusion_mtx_cnn = confusion_matrix(y_test1, Y_pred_classes1) \n",
    "plot_confusion_matrix(confusion_mtx_cnn, classes = range(10)) "
   ]
  }
 ],
 "metadata": {
  "kernelspec": {
   "display_name": "Python 3",
   "language": "python",
   "name": "python3"
  },
  "language_info": {
   "codemirror_mode": {
    "name": "ipython",
    "version": 3
   },
   "file_extension": ".py",
   "mimetype": "text/x-python",
   "name": "python",
   "nbconvert_exporter": "python",
   "pygments_lexer": "ipython3",
   "version": "3.7.2"
  }
 },
 "nbformat": 4,
 "nbformat_minor": 2
}
